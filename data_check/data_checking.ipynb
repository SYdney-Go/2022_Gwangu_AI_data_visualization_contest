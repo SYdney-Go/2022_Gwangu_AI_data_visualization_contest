{
 "cells": [
  {
   "cell_type": "code",
   "execution_count": 105,
   "metadata": {},
   "outputs": [
    {
     "data": {
      "text/plain": [
       "Index(['소비년월', '고객거주지역', '연령성별', '직업', '추정소득', '일인가구여부', '고객수', 'CNT',\n",
       "       'CNT_DAY_월', 'CNT_DAY_화', 'CNT_DAY_수', 'CNT_DAY_목', 'CNT_DAY_금',\n",
       "       'CNT_DAY_토', 'CNT_DAY_일', 'CNT_DAY_평일', 'CNT_DAY_주말공휴일', 'CNT_TIME_A',\n",
       "       'CNT_TIME_B', 'CNT_TIME_C', 'CNT_TIME_D', 'CNT_TIME_E', 'CNT_TIME_F',\n",
       "       'CNT_TIME_G', 'CNT_TIME_H', 'CNT_TIME_I', 'CNT_TIME_J', 'CNT_가례',\n",
       "       'CNT_가전', 'CNT_건강보조', 'CNT_골프장', 'CNT_공과금', 'CNT_관람', 'CNT_교육기타',\n",
       "       'CNT_교통', 'CNT_놀이공원', 'CNT_대중교통', 'CNT_동물병원', 'CNT_마트할인점', 'CNT_면세점',\n",
       "       'CNT_문구사무용품', 'CNT_배달앱', 'CNT_백화점', 'CNT_병원', 'CNT_보험', 'CNT_뷰티',\n",
       "       'CNT_상품권', 'CNT_서적', 'CNT_쇼핑기타', 'CNT_숙박', 'CNT_스포츠시설', 'CNT_스포츠의류용품',\n",
       "       'CNT_아울렛', 'CNT_여행상품', 'CNT_온라인쇼핑', 'CNT_유아교육', 'CNT_유흥', 'CNT_음식점',\n",
       "       'CNT_의류', 'CNT_인테리어', 'CNT_정기결제', 'CNT_제과점', 'CNT_주류판매점', 'CNT_주생활관리',\n",
       "       'CNT_주유', 'CNT_주차', 'CNT_차량관리', 'CNT_차량구매', 'CNT_취미', 'CNT_커피음료',\n",
       "       'CNT_패션잡화', 'CNT_편의점', 'CNT_학교', 'CNT_학원', 'CNT_화장품'],\n",
       "      dtype='object')"
      ]
     },
     "execution_count": 105,
     "metadata": {},
     "output_type": "execute_result"
    }
   ],
   "source": [
    "import pandas as pd\n",
    "\n",
    "data = pd.read_csv('../data/DATA_SSC_ONEPER_F.csv',encoding='euc-kr')\n",
    "df = pd.DataFrame(data)\n",
    "df.columns"
   ]
  },
  {
   "cell_type": "code",
   "execution_count": 15,
   "metadata": {},
   "outputs": [
    {
     "name": "stdout",
     "output_type": "stream",
     "text": [
      "<class 'pandas.core.frame.DataFrame'>\n",
      "RangeIndex: 254394 entries, 0 to 254393\n",
      "Data columns (total 75 columns):\n",
      " #   Column         Non-Null Count   Dtype \n",
      "---  ------         --------------   ----- \n",
      " 0   소비년월           254394 non-null  int64 \n",
      " 1   고객거주지역         254394 non-null  object\n",
      " 2   연령성별           254394 non-null  object\n",
      " 3   직업             254394 non-null  object\n",
      " 4   추정소득           254394 non-null  object\n",
      " 5   일인가구여부         254394 non-null  object\n",
      " 6   고객수            254394 non-null  int64 \n",
      " 7   CNT            254394 non-null  int64 \n",
      " 8   CNT_DAY_월      254394 non-null  int64 \n",
      " 9   CNT_DAY_화      254394 non-null  int64 \n",
      " 10  CNT_DAY_수      254394 non-null  int64 \n",
      " 11  CNT_DAY_목      254394 non-null  int64 \n",
      " 12  CNT_DAY_금      254394 non-null  int64 \n",
      " 13  CNT_DAY_토      254394 non-null  int64 \n",
      " 14  CNT_DAY_일      254394 non-null  int64 \n",
      " 15  CNT_DAY_평일     254394 non-null  int64 \n",
      " 16  CNT_DAY_주말공휴일  254394 non-null  int64 \n",
      " 17  CNT_TIME_A     254394 non-null  int64 \n",
      " 18  CNT_TIME_B     254394 non-null  int64 \n",
      " 19  CNT_TIME_C     254394 non-null  int64 \n",
      " 20  CNT_TIME_D     254394 non-null  int64 \n",
      " 21  CNT_TIME_E     254394 non-null  int64 \n",
      " 22  CNT_TIME_F     254394 non-null  int64 \n",
      " 23  CNT_TIME_G     254394 non-null  int64 \n",
      " 24  CNT_TIME_H     254394 non-null  int64 \n",
      " 25  CNT_TIME_I     254394 non-null  int64 \n",
      " 26  CNT_TIME_J     254394 non-null  int64 \n",
      " 27  CNT_가례         254394 non-null  int64 \n",
      " 28  CNT_가전         254394 non-null  int64 \n",
      " 29  CNT_건강보조       254394 non-null  int64 \n",
      " 30  CNT_골프장        254394 non-null  int64 \n",
      " 31  CNT_공과금        254394 non-null  int64 \n",
      " 32  CNT_관람         254394 non-null  int64 \n",
      " 33  CNT_교육기타       254394 non-null  int64 \n",
      " 34  CNT_교통         254394 non-null  int64 \n",
      " 35  CNT_놀이공원       254394 non-null  int64 \n",
      " 36  CNT_대중교통       254394 non-null  int64 \n",
      " 37  CNT_동물병원       254394 non-null  int64 \n",
      " 38  CNT_마트할인점      254394 non-null  int64 \n",
      " 39  CNT_면세점        254394 non-null  int64 \n",
      " 40  CNT_문구사무용품     254394 non-null  int64 \n",
      " 41  CNT_배달앱        254394 non-null  int64 \n",
      " 42  CNT_백화점        254394 non-null  int64 \n",
      " 43  CNT_병원         254394 non-null  int64 \n",
      " 44  CNT_보험         254394 non-null  int64 \n",
      " 45  CNT_뷰티         254394 non-null  int64 \n",
      " 46  CNT_상품권        254394 non-null  int64 \n",
      " 47  CNT_서적         254394 non-null  int64 \n",
      " 48  CNT_쇼핑기타       254394 non-null  int64 \n",
      " 49  CNT_숙박         254394 non-null  int64 \n",
      " 50  CNT_스포츠시설      254394 non-null  int64 \n",
      " 51  CNT_스포츠의류용품    254394 non-null  int64 \n",
      " 52  CNT_아울렛        254394 non-null  int64 \n",
      " 53  CNT_여행상품       254394 non-null  int64 \n",
      " 54  CNT_온라인쇼핑      254394 non-null  int64 \n",
      " 55  CNT_유아교육       254394 non-null  int64 \n",
      " 56  CNT_유흥         254394 non-null  int64 \n",
      " 57  CNT_음식점        254394 non-null  int64 \n",
      " 58  CNT_의류         254394 non-null  int64 \n",
      " 59  CNT_인테리어       254394 non-null  int64 \n",
      " 60  CNT_정기결제       254394 non-null  int64 \n",
      " 61  CNT_제과점        254394 non-null  int64 \n",
      " 62  CNT_주류판매점      254394 non-null  int64 \n",
      " 63  CNT_주생활관리      254394 non-null  int64 \n",
      " 64  CNT_주유         254394 non-null  int64 \n",
      " 65  CNT_주차         254394 non-null  int64 \n",
      " 66  CNT_차량관리       254394 non-null  int64 \n",
      " 67  CNT_차량구매       254394 non-null  int64 \n",
      " 68  CNT_취미         254394 non-null  int64 \n",
      " 69  CNT_커피음료       254394 non-null  int64 \n",
      " 70  CNT_패션잡화       254394 non-null  int64 \n",
      " 71  CNT_편의점        254394 non-null  int64 \n",
      " 72  CNT_학교         254394 non-null  int64 \n",
      " 73  CNT_학원         254394 non-null  int64 \n",
      " 74  CNT_화장품        254394 non-null  int64 \n",
      "dtypes: int64(70), object(5)\n",
      "memory usage: 145.6+ MB\n"
     ]
    }
   ],
   "source": [
    "data.info()"
   ]
  },
  {
   "cell_type": "markdown",
   "metadata": {},
   "source": [
    "## 어찌 되었던 시간 별 변화 추이를 보는게 우리 목적이었으니 시간 범주를 확인해보자!"
   ]
  },
  {
   "cell_type": "code",
   "execution_count": 94,
   "metadata": {},
   "outputs": [
    {
     "data": {
      "text/plain": [
       "array([201912, 202001, 202002, 202003, 202004, 202005, 202012, 202101,\n",
       "       202102, 202103, 202104, 202105])"
      ]
     },
     "execution_count": 94,
     "metadata": {},
     "output_type": "execute_result"
    }
   ],
   "source": [
    "# 다행히도 2019년도 12월부터 2021년도 5월까지 잘 정렬되어 있는 듯 하다.\n",
    "# 시계열이니 계절별 추이를 보이는건 따로 고려해서 분석하긴 해야할 듯.\n",
    "df['소비년월'].unique()"
   ]
  },
  {
   "cell_type": "markdown",
   "metadata": {},
   "source": [
    "## CNT_TIME 애들은 뭐하는 애들이얌...?"
   ]
  },
  {
   "cell_type": "code",
   "execution_count": 14,
   "metadata": {},
   "outputs": [
    {
     "data": {
      "text/html": [
       "<div>\n",
       "<style scoped>\n",
       "    .dataframe tbody tr th:only-of-type {\n",
       "        vertical-align: middle;\n",
       "    }\n",
       "\n",
       "    .dataframe tbody tr th {\n",
       "        vertical-align: top;\n",
       "    }\n",
       "\n",
       "    .dataframe thead th {\n",
       "        text-align: right;\n",
       "    }\n",
       "</style>\n",
       "<table border=\"1\" class=\"dataframe\">\n",
       "  <thead>\n",
       "    <tr style=\"text-align: right;\">\n",
       "      <th></th>\n",
       "      <th>CNT_TIME_A</th>\n",
       "      <th>CNT_TIME_B</th>\n",
       "      <th>CNT_TIME_C</th>\n",
       "      <th>CNT_TIME_D</th>\n",
       "      <th>CNT_TIME_E</th>\n",
       "      <th>CNT_TIME_F</th>\n",
       "      <th>CNT_TIME_G</th>\n",
       "      <th>CNT_TIME_H</th>\n",
       "      <th>CNT_TIME_I</th>\n",
       "      <th>CNT_TIME_J</th>\n",
       "    </tr>\n",
       "  </thead>\n",
       "  <tbody>\n",
       "    <tr>\n",
       "      <th>0</th>\n",
       "      <td>224</td>\n",
       "      <td>16</td>\n",
       "      <td>62</td>\n",
       "      <td>130</td>\n",
       "      <td>160</td>\n",
       "      <td>124</td>\n",
       "      <td>118</td>\n",
       "      <td>131</td>\n",
       "      <td>113</td>\n",
       "      <td>50</td>\n",
       "    </tr>\n",
       "    <tr>\n",
       "      <th>1</th>\n",
       "      <td>130</td>\n",
       "      <td>27</td>\n",
       "      <td>57</td>\n",
       "      <td>122</td>\n",
       "      <td>159</td>\n",
       "      <td>144</td>\n",
       "      <td>152</td>\n",
       "      <td>139</td>\n",
       "      <td>125</td>\n",
       "      <td>73</td>\n",
       "    </tr>\n",
       "    <tr>\n",
       "      <th>2</th>\n",
       "      <td>323</td>\n",
       "      <td>10</td>\n",
       "      <td>71</td>\n",
       "      <td>81</td>\n",
       "      <td>150</td>\n",
       "      <td>127</td>\n",
       "      <td>150</td>\n",
       "      <td>118</td>\n",
       "      <td>72</td>\n",
       "      <td>27</td>\n",
       "    </tr>\n",
       "    <tr>\n",
       "      <th>3</th>\n",
       "      <td>152</td>\n",
       "      <td>13</td>\n",
       "      <td>50</td>\n",
       "      <td>111</td>\n",
       "      <td>173</td>\n",
       "      <td>193</td>\n",
       "      <td>159</td>\n",
       "      <td>110</td>\n",
       "      <td>109</td>\n",
       "      <td>59</td>\n",
       "    </tr>\n",
       "    <tr>\n",
       "      <th>4</th>\n",
       "      <td>117</td>\n",
       "      <td>15</td>\n",
       "      <td>71</td>\n",
       "      <td>133</td>\n",
       "      <td>180</td>\n",
       "      <td>130</td>\n",
       "      <td>119</td>\n",
       "      <td>142</td>\n",
       "      <td>142</td>\n",
       "      <td>82</td>\n",
       "    </tr>\n",
       "  </tbody>\n",
       "</table>\n",
       "</div>"
      ],
      "text/plain": [
       "   CNT_TIME_A  CNT_TIME_B  CNT_TIME_C  CNT_TIME_D  CNT_TIME_E  CNT_TIME_F  \\\n",
       "0         224          16          62         130         160         124   \n",
       "1         130          27          57         122         159         144   \n",
       "2         323          10          71          81         150         127   \n",
       "3         152          13          50         111         173         193   \n",
       "4         117          15          71         133         180         130   \n",
       "\n",
       "   CNT_TIME_G  CNT_TIME_H  CNT_TIME_I  CNT_TIME_J  \n",
       "0         118         131         113          50  \n",
       "1         152         139         125          73  \n",
       "2         150         118          72          27  \n",
       "3         159         110         109          59  \n",
       "4         119         142         142          82  "
      ]
     },
     "execution_count": 14,
     "metadata": {},
     "output_type": "execute_result"
    }
   ],
   "source": [
    "# CNT_TIME이 뭔지 확인 해보기\n",
    "\n",
    "df_TIME = df[['CNT_TIME_A', 'CNT_TIME_B', 'CNT_TIME_C', 'CNT_TIME_D',\n",
    "             'CNT_TIME_E', 'CNT_TIME_F', 'CNT_TIME_G', 'CNT_TIME_H', 'CNT_TIME_I', 'CNT_TIME_J']]\n",
    "\n",
    "df_TIME.head()"
   ]
  },
  {
   "cell_type": "markdown",
   "metadata": {},
   "source": [
    "##  데이터 타입이 object 인거 확인하기"
   ]
  },
  {
   "cell_type": "code",
   "execution_count": 19,
   "metadata": {},
   "outputs": [
    {
     "data": {
      "text/html": [
       "<div>\n",
       "<style scoped>\n",
       "    .dataframe tbody tr th:only-of-type {\n",
       "        vertical-align: middle;\n",
       "    }\n",
       "\n",
       "    .dataframe tbody tr th {\n",
       "        vertical-align: top;\n",
       "    }\n",
       "\n",
       "    .dataframe thead th {\n",
       "        text-align: right;\n",
       "    }\n",
       "</style>\n",
       "<table border=\"1\" class=\"dataframe\">\n",
       "  <thead>\n",
       "    <tr style=\"text-align: right;\">\n",
       "      <th></th>\n",
       "      <th>고객거주지역</th>\n",
       "      <th>연령성별</th>\n",
       "      <th>직업</th>\n",
       "      <th>추정소득</th>\n",
       "      <th>일인가구여부</th>\n",
       "    </tr>\n",
       "  </thead>\n",
       "  <tbody>\n",
       "    <tr>\n",
       "      <th>0</th>\n",
       "      <td>경기 파주시</td>\n",
       "      <td>B</td>\n",
       "      <td>D.공무원</td>\n",
       "      <td>D</td>\n",
       "      <td>X</td>\n",
       "    </tr>\n",
       "    <tr>\n",
       "      <th>1</th>\n",
       "      <td>대전 서구</td>\n",
       "      <td>D</td>\n",
       "      <td>E.교육인</td>\n",
       "      <td>A</td>\n",
       "      <td>X</td>\n",
       "    </tr>\n",
       "    <tr>\n",
       "      <th>2</th>\n",
       "      <td>경기 의왕시</td>\n",
       "      <td>B</td>\n",
       "      <td>D.공무원</td>\n",
       "      <td>C</td>\n",
       "      <td>X</td>\n",
       "    </tr>\n",
       "    <tr>\n",
       "      <th>3</th>\n",
       "      <td>경남 거창군</td>\n",
       "      <td>E</td>\n",
       "      <td>F.자영업자</td>\n",
       "      <td>B</td>\n",
       "      <td>X</td>\n",
       "    </tr>\n",
       "    <tr>\n",
       "      <th>4</th>\n",
       "      <td>광주 북구</td>\n",
       "      <td>A</td>\n",
       "      <td>D.공무원</td>\n",
       "      <td>B</td>\n",
       "      <td>X</td>\n",
       "    </tr>\n",
       "  </tbody>\n",
       "</table>\n",
       "</div>"
      ],
      "text/plain": [
       "   고객거주지역 연령성별      직업 추정소득 일인가구여부\n",
       "0  경기 파주시    B   D.공무원    D      X\n",
       "1   대전 서구    D   E.교육인    A      X\n",
       "2  경기 의왕시    B   D.공무원    C      X\n",
       "3  경남 거창군    E  F.자영업자    B      X\n",
       "4   광주 북구    A   D.공무원    B      X"
      ]
     },
     "execution_count": 19,
     "metadata": {},
     "output_type": "execute_result"
    }
   ],
   "source": [
    "df_check_obj = df[['고객거주지역', '연령성별', '직업', '추정소득', '일인가구여부']]\n",
    "df_check_obj.head()"
   ]
  },
  {
   "cell_type": "code",
   "execution_count": 25,
   "metadata": {},
   "outputs": [
    {
     "data": {
      "text/plain": [
       "array(['경기 파주시', '대전 서구', '경기 의왕시', '경남 거창군', '광주 북구', '세종', '대구 북구',\n",
       "       '강원 춘천시', '부산 남구', '경기 평택시', '경기 부천시', '인천 남구', '대구 남구', '강원 원주시',\n",
       "       '대전 동구', '경기 양주시', '대구 서구', '경남 양산시', '경기 안성시', '울산 남구', '경기 군포시',\n",
       "       '광주 남구', '부산 북구', '경남 사천시', '경기 포천시', '광주 동구', '광주 서구', '경기 시흥시',\n",
       "       '경기 오산시', '대전 중구', '울산 중구', '인천 서구', '강원 삼척시', '대구 중구', '경남 진주시',\n",
       "       '경기 하남시', '대구 동구', '경기 광명시', '강원 강릉시', '울산 북구', '경기 구리시', '경기 김포시',\n",
       "       '강원 홍천군', '인천 중구', '경기 가평군', '경기 광주시', '경기 이천시', '강원 인제군',\n",
       "       '경남 고성군', '경남 밀양시', '경기 과천시', '경남 김해시', '부산 중구', '경기 양평군', '서울 중구',\n",
       "       '부산 동구', '경기 화성시', '강원 철원군', '강원 동해시', '경남 산청군', '부산 서구', '울산 동구',\n",
       "       '인천 동구', '경남 거제시', '강원 횡성군', '강원 화천군', '경기 여주시', '강원 속초시',\n",
       "       '강원 평창군', '강원 정선군', '경기 연천군', '강원 양구군', '강원 양양군', '경남 남해군',\n",
       "       '경남 의령군', '강원 태백시', '강원 영월군', '경남 하동군', '경남 함안군', '경남 함양군',\n",
       "       '경남 창녕군', '경남 통영시', '경남 합천군', '경북 경산시', '경북 문경시', '경북 영덕군',\n",
       "       '경북 봉화군', '경북 영천시', '경북 의성군', '경북 고령군', '대구 달서구', '경북 안동시',\n",
       "       '경북 구미시', '경북 청송군', '경북 군위군', '경북 상주시', '경북 성주군', '경북 영주시',\n",
       "       '경북 울진군', '경북 경주시', '광주 광산구', '경북 청도군', '경북 예천군', '경북 김천시',\n",
       "       '경북 칠곡군', '경북 울릉군', '경북 영양군', '대구 달성군', '부산 금정구', '부산 강서구',\n",
       "       '대구 수성구', '대전 유성구', '부산 기장군', '부산 동래구', '대전 대덕구', '부산 사상구',\n",
       "       '서울 도봉구', '서울 동작구', '서울 노원구', '서울 강동구', '서울 마포구', '서울 서초구',\n",
       "       '서울 금천구', '서울 성동구', '서울 강남구', '서울 구로구', '부산 영도구', '부산 수영구',\n",
       "       '서울 광진구', '서울 관악구', '서울 강북구', '부산 사하구', '서울 강서구', '부산 연제구',\n",
       "       '서울 종로구', '서울 양천구', '서울 성북구', '서울 은평구', '서울 송파구', '서울 용산구',\n",
       "       '서울 중랑구', '강원 고성군', '인천 계양구', '인천 남동구', '인천 강화군', '울산 울주군',\n",
       "       '전남 신안군', '전남 담양군', '전남 강진군', '전남 광양시', '인천 부평구', '전남 곡성군',\n",
       "       '전남 구례군', '전남 순천시', '전남 무안군', '인천 옹진군', '전남 보성군', '전남 고흥군',\n",
       "       '전남 목포시', '인천 연수구', '전남 나주시', '전남 여수시', '충남 계룡시', '전북 김제시',\n",
       "       '전남 영광군', '전북 진안군', '전남 장흥군', '전남 영암군', '전남 해남군', '전북 완주군',\n",
       "       '전북 남원시', '전북 장수군', '전북 임실군', '전북 순창군', '전북 무주군', '전북 군산시',\n",
       "       '전북 부안군', '전남 함평군', '전북 정읍시', '전북 고창군', '전남 완도군', '전남 장성군',\n",
       "       '전남 진도군', '충남 공주시', '전남 화순군', '전북 익산시', '제주 제주시', '충남 당진시',\n",
       "       '충남 아산시', '충남 서산시', '충남 금산군', '충남 보령시', '충남 부여군', '충남 서천군',\n",
       "       '충남 예산군', '충남 논산시', '충북 단양군', '충북 증평군', '충남 홍성군', '충북 옥천군',\n",
       "       '충북 음성군', '충북 보은군', '경기 남양주시', '충북 충주시', '충북 괴산군', '경기 동두천시',\n",
       "       '충북 영동군', '충남 태안군', '충북 제천시', '경기 의정부시', '부산 부산진구', '충북 진천군',\n",
       "       '충남 청양군', '서울 서대문구', '서울 영등포구', '제주 서귀포시', '경북 포항시 남구', '서울 동대문구',\n",
       "       '부산 해운대구', '인천 미추홀구', '경기 고양시 덕양구', '경북 포항시 북구', '경기 성남시 분당구',\n",
       "       '경기 부천시 소사구', '경기 부천시 원미구', '경기 부천시 오정구', '경기 성남시 수정구',\n",
       "       '경기 수원시 권선구', '경기 수원시 영통구', '경기 안산시 상록구', '경기 수원시 장안구',\n",
       "       '경기 수원시 팔달구', '경기 안산시 단원구', '경기 성남시 중원구', '경기 용인시 처인구',\n",
       "       '경기 용인시 수지구', '경남 창원시 의창구', '경기 용인시 기흥구', '경기 안양시 동안구',\n",
       "       '경기 안양시 만안구', '경남 창원시 성산구', '전북 전주시 덕진구', '경남 창원시 진해구',\n",
       "       '전북 전주시 완산구', '충남 천안시 동남구', '충남 천안시 서북구', '경남 창원시 마산합포구',\n",
       "       '경기 고양시 일산서구', '충북 청주시 상당구', '충북 청주시 흥덕구', '경기 고양시 일산동구',\n",
       "       '충북 청주시 서원구', '충북 청주시 청원구', '경남 창원시 마산회원구'], dtype=object)"
      ]
     },
     "execution_count": 25,
     "metadata": {},
     "output_type": "execute_result"
    }
   ],
   "source": [
    "# 구 단위까지 쪼개는게 의미가 있나? 하는 마음\n",
    "# 일단 지역구로 나누는건 가능하겠다!\n",
    "\n",
    "df['고객거주지역'].unique()"
   ]
  },
  {
   "cell_type": "code",
   "execution_count": 104,
   "metadata": {},
   "outputs": [
    {
     "name": "stdout",
     "output_type": "stream",
     "text": [
      "189251\n",
      "65143\n"
     ]
    }
   ],
   "source": [
    "print(df['일인가구여부'][df['일인가구여부']=='X'].count())\n",
    "print(df['일인가구여부'][df['일인가구여부']=='O'].count())"
   ]
  },
  {
   "cell_type": "code",
   "execution_count": 33,
   "metadata": {},
   "outputs": [
    {
     "data": {
      "text/plain": [
       "서울 강남구        2521\n",
       "서울 송파구        2392\n",
       "서울 서초구        2326\n",
       "경기 성남시 분당구    2190\n",
       "대전 서구         2116\n",
       "대구 수성구        2111\n",
       "경기 화성시        2100\n",
       "부산 해운대구       2014\n",
       "대전 유성구        1981\n",
       "경기 용인시 기흥구    1939\n",
       "서울 양천구        1909\n",
       "서울 관악구        1905\n",
       "서울 강서구        1900\n",
       "충남 천안시 서북구    1900\n",
       "경기 남양주시       1886\n",
       "서울 동작구        1884\n",
       "경기 평택시        1868\n",
       "서울 마포구        1861\n",
       "서울 영등포구       1860\n",
       "대구 달서구        1841\n",
       "Name: 고객거주지역, dtype: int64"
      ]
     },
     "execution_count": 33,
     "metadata": {},
     "output_type": "execute_result"
    }
   ],
   "source": [
    "# 대부분의 조사 값이 대도시에 모여있다\n",
    "df['고객거주지역'].value_counts().shape # (254, )\n",
    "df['고객거주지역'].value_counts().head(20)"
   ]
  },
  {
   "cell_type": "code",
   "execution_count": 93,
   "metadata": {},
   "outputs": [
    {
     "name": "stdout",
     "output_type": "stream",
     "text": [
      "{'경기': 45, '대전': 5, '경남': 22, '광주': 5, '세종': 1, '대구': 8, '강원': 18, '부산': 16, '인천': 11, '울산': 5, '서울': 25, '경북': 24, '전남': 22, '충남': 16, '전북': 15, '제주': 2, '충북': 14}\n"
     ]
    }
   ],
   "source": [
    "# 그러면 앞단어 하나로만 unique 찍어보면 어떨까\n",
    "\n",
    "locations = list(df['고객거주지역'].unique())\n",
    "\n",
    "loca_dict = {}\n",
    "for location in locations:\n",
    "    area = location[:2]\n",
    "    if area not in loca_dict:\n",
    "        loca_dict[area] = 1\n",
    "    else:\n",
    "        loca_dict[area] += 1\n",
    "        \n",
    "print(loca_dict)"
   ]
  },
  {
   "cell_type": "code",
   "execution_count": 37,
   "metadata": {},
   "outputs": [
    {
     "data": {
      "text/plain": [
       "B    63242\n",
       "E    54810\n",
       "A    40906\n",
       "C    37942\n",
       "D    30592\n",
       "F    26902\n",
       "Name: 연령성별, dtype: int64"
      ]
     },
     "execution_count": 37,
     "metadata": {},
     "output_type": "execute_result"
    }
   ],
   "source": [
    "# 각각이 어떤 항목을 의미하는지 알 수 없구만...ㅋㅋㅋㅋㅋ\n",
    "df['연령성별'].value_counts() "
   ]
  },
  {
   "cell_type": "code",
   "execution_count": 40,
   "metadata": {},
   "outputs": [
    {
     "data": {
      "text/plain": [
       "C.회사원(일반)     80072\n",
       "J.기타          60544\n",
       "F.자영업자        44366\n",
       "B.회사원(대기업)    28066\n",
       "D.공무원         22487\n",
       "E.교육인         15504\n",
       "A.전문직          3355\n",
       "Name: 직업, dtype: int64"
      ]
     },
     "execution_count": 40,
     "metadata": {},
     "output_type": "execute_result"
    }
   ],
   "source": [
    "# 흔히 말하는 안정적인 직업군과 그렇지 않은 직업군의 소비 변화 비교도 해보면 좋겠다. + 소득과 직업군과의 연관성을 고려하면서!\n",
    "df['직업'].value_counts()"
   ]
  },
  {
   "cell_type": "code",
   "execution_count": null,
   "metadata": {},
   "outputs": [],
   "source": [
    "# 취미 소비 항목(뷰티, 서적, 운동 등등)을 찾아서 비교 해도 재미있겠다!"
   ]
  },
  {
   "cell_type": "code",
   "execution_count": 280,
   "metadata": {},
   "outputs": [
    {
     "data": {
      "text/html": [
       "<div>\n",
       "<style scoped>\n",
       "    .dataframe tbody tr th:only-of-type {\n",
       "        vertical-align: middle;\n",
       "    }\n",
       "\n",
       "    .dataframe tbody tr th {\n",
       "        vertical-align: top;\n",
       "    }\n",
       "\n",
       "    .dataframe thead th {\n",
       "        text-align: right;\n",
       "    }\n",
       "</style>\n",
       "<table border=\"1\" class=\"dataframe\">\n",
       "  <thead>\n",
       "    <tr style=\"text-align: right;\">\n",
       "      <th></th>\n",
       "      <th>소비년월</th>\n",
       "      <th>CNT_가례</th>\n",
       "      <th>CNT_가전</th>\n",
       "      <th>CNT_건강보조</th>\n",
       "      <th>CNT_골프장</th>\n",
       "      <th>CNT_공과금</th>\n",
       "      <th>CNT_관람</th>\n",
       "      <th>CNT_교육기타</th>\n",
       "      <th>CNT_교통</th>\n",
       "      <th>CNT_놀이공원</th>\n",
       "      <th>...</th>\n",
       "      <th>CNT_주차</th>\n",
       "      <th>CNT_차량관리</th>\n",
       "      <th>CNT_차량구매</th>\n",
       "      <th>CNT_취미</th>\n",
       "      <th>CNT_커피음료</th>\n",
       "      <th>CNT_패션잡화</th>\n",
       "      <th>CNT_편의점</th>\n",
       "      <th>CNT_학교</th>\n",
       "      <th>CNT_학원</th>\n",
       "      <th>CNT_화장품</th>\n",
       "    </tr>\n",
       "  </thead>\n",
       "  <tbody>\n",
       "    <tr>\n",
       "      <th>0</th>\n",
       "      <td>100</td>\n",
       "      <td>-6344</td>\n",
       "      <td>1880</td>\n",
       "      <td>-608811</td>\n",
       "      <td>-1724</td>\n",
       "      <td>-6429</td>\n",
       "      <td>-297784</td>\n",
       "      <td>-48076</td>\n",
       "      <td>-589704</td>\n",
       "      <td>-42558</td>\n",
       "      <td>...</td>\n",
       "      <td>-92095</td>\n",
       "      <td>-1506</td>\n",
       "      <td>272</td>\n",
       "      <td>-396031</td>\n",
       "      <td>-937779</td>\n",
       "      <td>-53515</td>\n",
       "      <td>-567350</td>\n",
       "      <td>-1482</td>\n",
       "      <td>-91496</td>\n",
       "      <td>-139565</td>\n",
       "    </tr>\n",
       "    <tr>\n",
       "      <th>1</th>\n",
       "      <td>100</td>\n",
       "      <td>-2989</td>\n",
       "      <td>44960</td>\n",
       "      <td>-297520</td>\n",
       "      <td>-11723</td>\n",
       "      <td>-7180</td>\n",
       "      <td>-162793</td>\n",
       "      <td>-923</td>\n",
       "      <td>-539303</td>\n",
       "      <td>-14201</td>\n",
       "      <td>...</td>\n",
       "      <td>-30219</td>\n",
       "      <td>14561</td>\n",
       "      <td>534</td>\n",
       "      <td>-297101</td>\n",
       "      <td>-344990</td>\n",
       "      <td>-15113</td>\n",
       "      <td>283571</td>\n",
       "      <td>-707</td>\n",
       "      <td>-18821</td>\n",
       "      <td>-65834</td>\n",
       "    </tr>\n",
       "    <tr>\n",
       "      <th>2</th>\n",
       "      <td>100</td>\n",
       "      <td>-1850</td>\n",
       "      <td>36473</td>\n",
       "      <td>-223603</td>\n",
       "      <td>13731</td>\n",
       "      <td>35897</td>\n",
       "      <td>-34310</td>\n",
       "      <td>944</td>\n",
       "      <td>-47114</td>\n",
       "      <td>9611</td>\n",
       "      <td>...</td>\n",
       "      <td>16928</td>\n",
       "      <td>327</td>\n",
       "      <td>142</td>\n",
       "      <td>-123617</td>\n",
       "      <td>162085</td>\n",
       "      <td>2517</td>\n",
       "      <td>372735</td>\n",
       "      <td>-842</td>\n",
       "      <td>1018</td>\n",
       "      <td>-27223</td>\n",
       "    </tr>\n",
       "    <tr>\n",
       "      <th>3</th>\n",
       "      <td>100</td>\n",
       "      <td>-1435</td>\n",
       "      <td>47463</td>\n",
       "      <td>-284017</td>\n",
       "      <td>24411</td>\n",
       "      <td>30709</td>\n",
       "      <td>12643</td>\n",
       "      <td>4140</td>\n",
       "      <td>209189</td>\n",
       "      <td>4784</td>\n",
       "      <td>...</td>\n",
       "      <td>72574</td>\n",
       "      <td>16265</td>\n",
       "      <td>804</td>\n",
       "      <td>-28585</td>\n",
       "      <td>489196</td>\n",
       "      <td>16510</td>\n",
       "      <td>960671</td>\n",
       "      <td>342</td>\n",
       "      <td>37967</td>\n",
       "      <td>13045</td>\n",
       "    </tr>\n",
       "    <tr>\n",
       "      <th>4</th>\n",
       "      <td>100</td>\n",
       "      <td>1389</td>\n",
       "      <td>30102</td>\n",
       "      <td>-241001</td>\n",
       "      <td>12010</td>\n",
       "      <td>34455</td>\n",
       "      <td>16892</td>\n",
       "      <td>4013</td>\n",
       "      <td>132375</td>\n",
       "      <td>16447</td>\n",
       "      <td>...</td>\n",
       "      <td>60014</td>\n",
       "      <td>13715</td>\n",
       "      <td>1150</td>\n",
       "      <td>-42780</td>\n",
       "      <td>475526</td>\n",
       "      <td>12627</td>\n",
       "      <td>1105106</td>\n",
       "      <td>-205</td>\n",
       "      <td>13349</td>\n",
       "      <td>8712</td>\n",
       "    </tr>\n",
       "    <tr>\n",
       "      <th>5</th>\n",
       "      <td>100</td>\n",
       "      <td>696</td>\n",
       "      <td>18382</td>\n",
       "      <td>-359173</td>\n",
       "      <td>7312</td>\n",
       "      <td>32391</td>\n",
       "      <td>31636</td>\n",
       "      <td>-527</td>\n",
       "      <td>37080</td>\n",
       "      <td>16597</td>\n",
       "      <td>...</td>\n",
       "      <td>32805</td>\n",
       "      <td>-7560</td>\n",
       "      <td>108</td>\n",
       "      <td>-51757</td>\n",
       "      <td>280640</td>\n",
       "      <td>-8117</td>\n",
       "      <td>736260</td>\n",
       "      <td>-58</td>\n",
       "      <td>7160</td>\n",
       "      <td>-28121</td>\n",
       "    </tr>\n",
       "  </tbody>\n",
       "</table>\n",
       "<p>6 rows × 49 columns</p>\n",
       "</div>"
      ],
      "text/plain": [
       "   소비년월  CNT_가례  CNT_가전  CNT_건강보조  CNT_골프장  CNT_공과금  CNT_관람  CNT_교육기타  CNT_교통  \\\n",
       "0   100   -6344    1880   -608811    -1724    -6429 -297784    -48076 -589704   \n",
       "1   100   -2989   44960   -297520   -11723    -7180 -162793      -923 -539303   \n",
       "2   100   -1850   36473   -223603    13731    35897  -34310       944  -47114   \n",
       "3   100   -1435   47463   -284017    24411    30709   12643      4140  209189   \n",
       "4   100    1389   30102   -241001    12010    34455   16892      4013  132375   \n",
       "5   100     696   18382   -359173     7312    32391   31636      -527   37080   \n",
       "\n",
       "   CNT_놀이공원  ...  CNT_주차  CNT_차량관리  CNT_차량구매  CNT_취미  CNT_커피음료  CNT_패션잡화  \\\n",
       "0    -42558  ...  -92095     -1506       272 -396031   -937779    -53515   \n",
       "1    -14201  ...  -30219     14561       534 -297101   -344990    -15113   \n",
       "2      9611  ...   16928       327       142 -123617    162085      2517   \n",
       "3      4784  ...   72574     16265       804  -28585    489196     16510   \n",
       "4     16447  ...   60014     13715      1150  -42780    475526     12627   \n",
       "5     16597  ...   32805     -7560       108  -51757    280640     -8117   \n",
       "\n",
       "   CNT_편의점  CNT_학교  CNT_학원  CNT_화장품  \n",
       "0  -567350   -1482  -91496  -139565  \n",
       "1   283571    -707  -18821   -65834  \n",
       "2   372735    -842    1018   -27223  \n",
       "3   960671     342   37967    13045  \n",
       "4  1105106    -205   13349     8712  \n",
       "5   736260     -58    7160   -28121  \n",
       "\n",
       "[6 rows x 49 columns]"
      ]
     },
     "execution_count": 280,
     "metadata": {},
     "output_type": "execute_result"
    }
   ],
   "source": [
    "kinds_df =  df[['소비년월',\n",
    "             'CNT_가례', 'CNT_가전', 'CNT_건강보조', 'CNT_골프장', 'CNT_공과금', 'CNT_관람', 'CNT_교육기타',\n",
    "            'CNT_교통', 'CNT_놀이공원', 'CNT_대중교통', 'CNT_동물병원', 'CNT_마트할인점', 'CNT_면세점',\n",
    "            'CNT_문구사무용품', 'CNT_배달앱', 'CNT_백화점', 'CNT_병원', 'CNT_보험', 'CNT_뷰티',\n",
    "            'CNT_상품권', 'CNT_서적', 'CNT_쇼핑기타', 'CNT_숙박', 'CNT_스포츠시설', 'CNT_스포츠의류용품',\n",
    "            'CNT_아울렛', 'CNT_여행상품', 'CNT_온라인쇼핑', 'CNT_유아교육', 'CNT_유흥', 'CNT_음식점',\n",
    "            'CNT_의류', 'CNT_인테리어', 'CNT_정기결제', 'CNT_제과점', 'CNT_주류판매점', 'CNT_주생활관리',\n",
    "            'CNT_주유', 'CNT_주차', 'CNT_차량관리', 'CNT_차량구매', 'CNT_취미', 'CNT_커피음료',\n",
    "            'CNT_패션잡화', 'CNT_편의점', 'CNT_학교', 'CNT_학원', 'CNT_화장품']]\n",
    "\n",
    "sobi = kinds_df.groupby(by=[\"소비년월\"]).sum()\n",
    "sobi_2020 = sobi[:6].reset_index()\n",
    "sobi_2021 = sobi[6:].reset_index()\n",
    "sobi_cha = sobi_2021 - sobi_2020\n",
    "sobi_cha"
   ]
  },
  {
   "cell_type": "code",
   "execution_count": 265,
   "metadata": {},
   "outputs": [
    {
     "name": "stdout",
     "output_type": "stream",
     "text": [
      "[201912, 202001, 202002, 202003, 202004, 202005]\n",
      "[8807, 5217, 4287, 4351, 3196, 4020]\n",
      "[263493, 228466, 223281, 233729, 244032, 270353]\n",
      "[1578762, 1169229, 1074358, 1293691, 1279089, 1384097]\n",
      "[62237, 58776, 67417, 102701, 129325, 148363]\n",
      "[239490, 276516, 133630, 154514, 135981, 140261]\n",
      "[307405, 174223, 58594, 13101, 6534, 13781]\n",
      "[71387, 23974, 21647, 20452, 21851, 24513]\n",
      "[1003190, 971959, 528955, 331066, 430016, 596222]\n",
      "[44042, 17008, 3191, 6161, 7503, 18466]\n",
      "[6512150, 5233899, 4501033, 3825968, 4005497, 3491017]\n",
      "[55730, 42030, 36427, 41490, 43507, 50651]\n",
      "[8354748, 6791691, 6179050, 6841845, 6794444, 7329250]\n",
      "[62194, 46430, 14998, 1899, 888, 2448]\n",
      "[145211, 66639, 54329, 54146, 57480, 77230]\n",
      "[1124882, 786658, 814319, 971389, 916514, 912013]\n",
      "[813395, 538533, 369545, 315538, 420188, 535581]\n",
      "[2002488, 1410844, 1158122, 1048013, 1108119, 1226908]\n",
      "[867858, 842292, 817244, 865317, 846660, 870444]\n",
      "[288071, 216930, 179202, 179392, 199945, 247504]\n",
      "[1293, 539, 439, 427, 565, 524]\n",
      "[202619, 131940, 107401, 141323, 121238, 117044]\n",
      "[37702, 19741, 21907, 21741, 19123, 20457]\n",
      "[158290, 112817, 75983, 53157, 58244, 82460]\n",
      "[71771, 56533, 34844, 24587, 28761, 43210]\n",
      "[99129, 61386, 42670, 46807, 71441, 127035]\n",
      "[652899, 377174, 233493, 225962, 337625, 486956]\n",
      "[5055, 3260, 1695, 1620, 2218, 2612]\n",
      "[8708481, 6550785, 6797634, 7548651, 7204433, 7719627]\n",
      "[31929, 1530, 55, 42, 94, 182]\n",
      "[137473, 100387, 80160, 58809, 63091, 69052]\n",
      "[8274107, 6386989, 5442820, 5231085, 5748896, 6839693]\n",
      "[314671, 192006, 126954, 123039, 177421, 305911]\n",
      "[269942, 184819, 189021, 237317, 263432, 339736]\n",
      "[1880385, 1535199, 1480531, 1592840, 1503038, 1575026]\n",
      "[1203862, 836253, 755721, 792640, 804013, 886138]\n",
      "[858, 325, 263, 483, 519, 703]\n",
      "[250554, 170887, 155694, 183300, 189813, 235528]\n",
      "[2009506, 1769081, 1532681, 1535810, 1531917, 1600542]\n",
      "[227614, 158533, 123885, 112188, 124820, 162795]\n",
      "[145580, 112535, 106236, 114198, 120282, 137575]\n",
      "[1047, 166, 447, 718, 841, 1332]\n",
      "[624092, 551056, 411147, 351545, 347619, 406275]\n",
      "[2237528, 1668646, 1431953, 1464696, 1586790, 1915970]\n",
      "[108542, 61852, 46075, 47268, 54632, 84587]\n",
      "[5492664, 4442101, 4130002, 4280909, 4362783, 5041448]\n",
      "[1787, 997, 1735, 575, 650, 608]\n",
      "[140370, 77172, 55745, 36739, 49344, 67314]\n",
      "[310483, 207613, 175063, 171052, 160214, 210223]\n"
     ]
    }
   ],
   "source": [
    "import matplotlib.pyplot as plt\n",
    "import numpy as np\n",
    "\n",
    "indexs = sobi_2020.columns\n",
    "year_index = [\"201912\", \"202001\", \"202002\", \"202003\", \"202004\", \"202005\"]\n",
    "for index in indexs:\n",
    "    new = sobi_2020[[index]].values[:]\n",
    "    new = list(new.reshape(-1))\n",
    "    print(new)"
   ]
  },
  {
   "cell_type": "code",
   "execution_count": 267,
   "metadata": {},
   "outputs": [
    {
     "name": "stdout",
     "output_type": "stream",
     "text": [
      "[202012, 202101, 202102, 202103, 202104, 202105]\n",
      "[2463, 2228, 2437, 2916, 4585, 4716]\n",
      "[265373, 273426, 259754, 281192, 274134, 288735]\n",
      "[969951, 871709, 850755, 1009674, 1038088, 1024924]\n",
      "[60513, 47053, 81148, 127112, 141335, 155675]\n",
      "[233061, 269336, 169527, 185223, 170436, 172652]\n",
      "[9621, 11430, 24284, 25744, 23426, 45417]\n",
      "[23311, 23051, 22591, 24592, 25864, 23986]\n",
      "[413486, 432656, 481841, 540255, 562391, 633302]\n",
      "[1484, 2807, 12802, 10945, 23950, 35063]\n",
      "[2949893, 2820665, 2976506, 3370862, 3376242, 3512623]\n",
      "[48832, 46532, 43162, 53278, 54206, 59941]\n",
      "[7184122, 6939491, 6486419, 6987815, 7053731, 7580521]\n",
      "[3234, 1894, 4468, 6278, 7569, 7093]\n",
      "[74179, 59449, 56220, 94360, 74123, 75182]\n",
      "[1827085, 1969090, 1721496, 1851980, 1871649, 2095337]\n",
      "[465666, 437751, 446634, 525528, 502861, 566512]\n",
      "[1256460, 1154664, 1112270, 1361082, 1348475, 1296161]\n",
      "[871200, 840920, 850767, 910947, 891491, 901735]\n",
      "[188247, 191930, 197216, 226020, 221720, 242443]\n",
      "[340, 271, 303, 311, 233, 366]\n",
      "[125470, 146341, 115642, 180925, 109055, 109716]\n",
      "[20245, 20484, 18280, 23652, 22225, 22541]\n",
      "[69080, 65908, 74502, 79111, 84161, 103955]\n",
      "[8313, 10452, 22948, 33353, 31609, 39466]\n",
      "[49196, 35028, 45435, 67811, 74822, 89119]\n",
      "[303601, 288777, 336037, 402471, 403196, 471497]\n",
      "[2126, 1627, 1817, 2579, 3014, 3326]\n",
      "[9629113, 8998747, 8053271, 9401266, 9318297, 9791696]\n",
      "[41, 38, 68, 483, 471, 827]\n",
      "[6935, 4993, 25417, 51653, 45402, 47354]\n",
      "[4837758, 4759648, 4898507, 5949734, 6049851, 6379713]\n",
      "[150073, 121811, 130649, 186844, 199895, 219226]\n",
      "[247961, 220638, 213939, 291747, 290824, 327001]\n",
      "[1714550, 1659909, 1746926, 1855682, 1804938, 1834751]\n",
      "[816043, 746696, 706515, 821320, 822647, 852280]\n",
      "[2564, 1227, 1068, 1311, 1469, 1811]\n",
      "[159970, 140894, 138017, 218835, 224232, 231340]\n",
      "[1717857, 1656186, 1600903, 1793567, 1813196, 1888767]\n",
      "[135519, 128314, 140813, 184762, 184834, 195600]\n",
      "[144074, 127096, 106563, 130463, 133997, 130015]\n",
      "[1319, 700, 589, 1522, 1991, 1440]\n",
      "[228061, 253955, 287530, 322960, 304839, 354518]\n",
      "[1299749, 1323656, 1594038, 1953892, 2062316, 2196610]\n",
      "[55027, 46739, 48592, 63778, 67259, 76470]\n",
      "[4925314, 4725672, 4502737, 5241580, 5467889, 5777708]\n",
      "[305, 290, 893, 917, 445, 550]\n",
      "[48874, 58351, 56763, 74706, 62693, 74474]\n",
      "[170918, 141779, 147840, 184097, 168926, 182102]\n"
     ]
    }
   ],
   "source": [
    "indexs = sobi_2021.columns\n",
    "year_index = [\"202012\", \"202101\", \"202102\", \"202103\", \"202104\", \"202105\"]\n",
    "for index in indexs:\n",
    "    new = sobi_2021[[index]].values[:]\n",
    "    x2 = list(new.reshape(-1))\n",
    "    print(new)"
   ]
  },
  {
   "cell_type": "markdown",
   "metadata": {},
   "source": [
    "# 머리가 나빴던 석영의 EDA 노가다"
   ]
  },
  {
   "cell_type": "code",
   "execution_count": 276,
   "metadata": {},
   "outputs": [
    {
     "data": {
      "text/plain": [
       "<BarContainer object of 6 artists>"
      ]
     },
     "execution_count": 276,
     "metadata": {},
     "output_type": "execute_result"
    },
    {
     "name": "stderr",
     "output_type": "stream",
     "text": [
      "/home/sydney/.local/lib/python3.8/site-packages/matplotlib/backends/backend_agg.py:240: RuntimeWarning: Glyph 44032 missing from current font.\n",
      "  font.set_text(s, 0.0, flags=flags)\n",
      "/home/sydney/.local/lib/python3.8/site-packages/matplotlib/backends/backend_agg.py:240: RuntimeWarning: Glyph 47168 missing from current font.\n",
      "  font.set_text(s, 0.0, flags=flags)\n",
      "/home/sydney/.local/lib/python3.8/site-packages/matplotlib/backends/backend_agg.py:203: RuntimeWarning: Glyph 44032 missing from current font.\n",
      "  font.set_text(s, 0, flags=flags)\n",
      "/home/sydney/.local/lib/python3.8/site-packages/matplotlib/backends/backend_agg.py:203: RuntimeWarning: Glyph 47168 missing from current font.\n",
      "  font.set_text(s, 0, flags=flags)\n"
     ]
    },
    {
     "data": {
      "image/png": "[encoded data removed]",
      "text/plain": [
       "<Figure size 432x288 with 1 Axes>"
      ]
     },
     "metadata": {
      "needs_background": "light"
     },
     "output_type": "display_data"
    }
   ],
   "source": [
    "# CNT_가례\n",
    "\n",
    "x1 = [\"12월\", \"1월\", \"2월\", \"3월\", \"4월\", \"5월\"]\n",
    "y1 = [8807, 5217, 4287, 4351, 3196, 4020]\n",
    "x = np.arange(len(x1))\n",
    "\n",
    "x2 = [\"12월\", \"1월\", \"2월\", \"3월\", \"4월\", \"5월\"]\n",
    "y2 = [2463, 2228, 2437, 2916, 4585, 4716]\n",
    "plt.title(\"가례\")\n",
    "plt.bar(x-0.05, y1, width = 0.05)\n",
    "plt.bar(x+0.05, y2, width = 0.05)"
   ]
  },
  {
   "cell_type": "code",
   "execution_count": 277,
   "metadata": {},
   "outputs": [
    {
     "data": {
      "text/plain": [
       "<BarContainer object of 6 artists>"
      ]
     },
     "execution_count": 277,
     "metadata": {},
     "output_type": "execute_result"
    },
    {
     "name": "stderr",
     "output_type": "stream",
     "text": [
      "/home/sydney/.local/lib/python3.8/site-packages/matplotlib/backends/backend_agg.py:240: RuntimeWarning: Glyph 44032 missing from current font.\n",
      "  font.set_text(s, 0.0, flags=flags)\n",
      "/home/sydney/.local/lib/python3.8/site-packages/matplotlib/backends/backend_agg.py:240: RuntimeWarning: Glyph 51204 missing from current font.\n",
      "  font.set_text(s, 0.0, flags=flags)\n",
      "/home/sydney/.local/lib/python3.8/site-packages/matplotlib/backends/backend_agg.py:203: RuntimeWarning: Glyph 44032 missing from current font.\n",
      "  font.set_text(s, 0, flags=flags)\n",
      "/home/sydney/.local/lib/python3.8/site-packages/matplotlib/backends/backend_agg.py:203: RuntimeWarning: Glyph 51204 missing from current font.\n",
      "  font.set_text(s, 0, flags=flags)\n"
     ]
    },
    {
     "data": {
      "image/png": "[encoded data removed]",
      "text/plain": [
       "<Figure size 432x288 with 1 Axes>"
      ]
     },
     "metadata": {
      "needs_background": "light"
     },
     "output_type": "display_data"
    }
   ],
   "source": [
    "# CNT_가전\n",
    "\n",
    "x1  =[\"12월\", \"1월\", \"2월\", \"3월\", \"4월\", \"5월\"]\n",
    "y1 = [263493, 228466, 223281, 233729, 244032, 270353]\n",
    "x = np.arange(len(x1))\n",
    "\n",
    "x2 = [\"12월\", \"1월\", \"2월\", \"3월\", \"4월\", \"5월\"]\n",
    "y2 = [265373, 273426, 259754, 281192, 274134, 288735]\n",
    "plt.title(\"가전\")\n",
    "plt.bar(x-0.05, y1, width = 0.05)\n",
    "plt.bar(x+0.05, y2, width = 0.05)"
   ]
  },
  {
   "cell_type": "code",
   "execution_count": null,
   "metadata": {},
   "outputs": [],
   "source": [
    "# CNT_가전\n",
    "\n",
    "x1  =[\"12월\", \"1월\", \"2월\", \"3월\", \"4월\", \"5월\"]\n",
    "y1 = [263493, 228466, 223281, 233729, 244032, 270353]\n",
    "x = np.arange(len(x1))\n",
    "\n",
    "x2 = [\"12월\", \"1월\", \"2월\", \"3월\", \"4월\", \"5월\"]\n",
    "y2 = [265373, 273426, 259754, 281192, 274134, 288735]\n",
    "plt.title(\"가전\")\n",
    "plt.bar(x-0.05, y1, width = 0.05)\n",
    "plt.bar(x+0.05, y2, width = 0.05)"
   ]
  }
 ],
 "metadata": {
  "interpreter": {
   "hash": "916dbcbb3f70747c44a77c7bcd40155683ae19c65e1c03b4aa3499c5328201f1"
  },
  "kernelspec": {
   "display_name": "Python 3.8.10 64-bit",
   "language": "python",
   "name": "python3"
  },
  "language_info": {
   "codemirror_mode": {
    "name": "ipython",
    "version": 3
   },
   "file_extension": ".py",
   "mimetype": "text/x-python",
   "name": "python",
   "nbconvert_exporter": "python",
   "pygments_lexer": "ipython3",
   "version": "3.8.10"
  },
  "orig_nbformat": 4
 },
 "nbformat": 4,
 "nbformat_minor": 2
}
